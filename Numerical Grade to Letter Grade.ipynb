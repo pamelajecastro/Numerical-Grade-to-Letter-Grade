{
 "cells": [
  {
   "cell_type": "code",
   "execution_count": null,
   "id": "d75bed4a",
   "metadata": {},
   "outputs": [],
   "source": [
    "grade = int(input('Enter your grade:'))\n",
    "if grade >= 92:\n",
    "    print('A+')\n",
    "elif grade >= 88:\n",
    "    print('A')\n",
    "elif grade >= 85:\n",
    "    print('A-')\n",
    "elif grade >= 82:\n",
    "    print('B+')\n",
    "elif grade >= 78:\n",
    "    print('B')\n",
    "elif grade >= 75:\n",
    "    print('B-')\n",
    "elif grade >= 72:\n",
    "    print('C+')\n",
    "elif grade >= 68:\n",
    "    print('C')\n",
    "elif grade >= 65:\n",
    "    print('C-')\n",
    "elif grade >= 55:\n",
    "    print('D')\n",
    "else:\n",
    "    print('F')"
   ]
  }
 ],
 "metadata": {
  "kernelspec": {
   "display_name": "Python 3 (ipykernel)",
   "language": "python",
   "name": "python3"
  },
  "language_info": {
   "codemirror_mode": {
    "name": "ipython",
    "version": 3
   },
   "file_extension": ".py",
   "mimetype": "text/x-python",
   "name": "python",
   "nbconvert_exporter": "python",
   "pygments_lexer": "ipython3",
   "version": "3.9.12"
  }
 },
 "nbformat": 4,
 "nbformat_minor": 5
}
